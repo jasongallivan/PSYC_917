{
 "cells": [
  {
   "cell_type": "markdown",
   "metadata": {},
   "source": [
    "# ROI Analysis\n",
    "\n",
    "The goal of an region-of-interest (ROI) analysis is to analyze the GLM parameter values for a region of interest. For each subject, we need to compute the mean paramter value (i.e. the regressor coefficient or beta value) of that ROI, which are then analyzed at the group level. Depending on our hypothesis, we can evaluate if there are differences between conditions, or simply if the ROI has beta values greater or less than 0. \n",
    "\n",
    "Why perform an ROI analysis if you have to run a GLM in the first place? Well, an ROI analysis assumes that you a pre-determined set of ROIs that you wish to examine and you can therefore avoid getting into whole-brain multiple-comparison stuff, which, as we learned, is pretty tricky. "
   ]
  },
  {
   "cell_type": "code",
   "execution_count": null,
   "metadata": {},
   "outputs": [],
   "source": [
    "import pickle\n",
    "import numpy as np\n",
    "import pandas as pd\n",
    "import matplotlib.pyplot as plt\n",
    "import seaborn as sns\n",
    "import nibabel as nib\n",
    "from nilearn.maskers import NiftiMasker\n",
    "from nilearn.plotting import plot_stat_map, plot_roi\n",
    "\n",
    "import warnings\n",
    "warnings.filterwarnings('ignore')"
   ]
  },
  {
   "cell_type": "code",
   "execution_count": null,
   "metadata": {},
   "outputs": [],
   "source": [
    "with open('first_level_models.p', 'rb') as f:\n",
    "    glms = pickle.load(f)"
   ]
  },
  {
   "cell_type": "code",
   "execution_count": null,
   "metadata": {},
   "outputs": [],
   "source": [
    "glms"
   ]
  },
  {
   "cell_type": "markdown",
   "metadata": {},
   "source": [
    "## 1. Combining parameter maps\n",
    "\n",
    "First, let's select an example condition. For now, let's do Arms.\n",
    "\n",
    "Then, we need to iterate through each subject and pull out their stat/parameter maps for Arms using the `compute_contrast` method we've been using."
   ]
  },
  {
   "cell_type": "code",
   "execution_count": null,
   "metadata": {},
   "outputs": [],
   "source": [
    "cond = 'Arm'\n",
    "\n",
    "param_maps = []\n",
    "\n",
    "for model in glms:\n",
    "    parameter_map = model.compute_contrast(cond, output_type='effect_size')\n",
    "    param_maps.append(parameter_map)"
   ]
  },
  {
   "cell_type": "code",
   "execution_count": null,
   "metadata": {},
   "outputs": [],
   "source": [
    "param_maps"
   ]
  },
  {
   "cell_type": "markdown",
   "metadata": {},
   "source": [
    "## 2. Viewing our ROIs\n",
    "\n",
    "I've gone ahead and made some ROIs that will give us some meaningful resuts for the sake of this excercise. Let's plot each one:"
   ]
  },
  {
   "cell_type": "code",
   "execution_count": null,
   "metadata": {},
   "outputs": [],
   "source": [
    "plot_roi('L_Broca.nii.gz')"
   ]
  },
  {
   "cell_type": "code",
   "execution_count": null,
   "metadata": {},
   "outputs": [],
   "source": [
    "plot_roi('L_SSc.nii.gz')"
   ]
  },
  {
   "cell_type": "code",
   "execution_count": null,
   "metadata": {},
   "outputs": [],
   "source": [
    "plot_roi('L_FEF.nii.gz')"
   ]
  },
  {
   "cell_type": "markdown",
   "metadata": {},
   "source": [
    "## 3. Extracting data from an ROI\n",
    "\n",
    "Okay, so now that we have our ROIs, we need to actually extract data from them. Nilearn has an amazing set of objects that make data extraction extremely easy. Masker objects are essential to the next several tutorials. I highly recommend looking at the [nilearn user guide](https://nilearn.github.io/stable/manipulating_images/masker_objects.html#masker-objects) to get a better understanding of what masker objects can do.\n",
    "\n",
    "We will be using the core masker object, `NiftiMasker`. See the [documentation here](https://nilearn.github.io/stable/modules/generated/nilearn.maskers.MultiNiftiMasker.html#nilearn.maskers.MultiNiftiMasker). Notice that we can apply all sorts of preprocessing steps like we've done in with FirstLevelModels. We want the raw values from our images today, but in the following lessons we will be using the masker objects to also apply preprocessing steps. \n",
    "\n",
    "First, we initialize our masker object. We'll pass in one of our ROI masks. Then, we need to call the `fit_transform` method, which will fit the mask to the data and extract out the parameter values of the voxels that inside the ROI for each subject. This returns a matrix, where each row is a subject, and each column is a voxel. This has dimensions N x M, where N = the number of maps (subjects), and M = the number of voxels. You can think of masker objects 'flattening' the data into a 2D matrix, which is easy to work with."
   ]
  },
  {
   "cell_type": "code",
   "execution_count": null,
   "metadata": {},
   "outputs": [],
   "source": [
    "# set up masker\n",
    "masker = NiftiMasker(mask_img='L_SSc.nii.gz')\n",
    "# extract data\n",
    "roi_data = masker.fit_transform(param_maps)\n",
    "\n",
    "roi_data"
   ]
  },
  {
   "cell_type": "code",
   "execution_count": null,
   "metadata": {},
   "outputs": [],
   "source": [
    "roi_data.shape"
   ]
  },
  {
   "cell_type": "markdown",
   "metadata": {},
   "source": [
    "Next, we want to compute the mean parameter value for each subject. This will be our subject-level unit of data. We can conveniently do this using the numpy `mean` function, and set `axis=1`. This will compute the means across the columns (voxels) for each row."
   ]
  },
  {
   "cell_type": "code",
   "execution_count": null,
   "metadata": {},
   "outputs": [],
   "source": [
    "roi_means = np.mean(roi_data, axis=1)\n",
    "roi_means"
   ]
  },
  {
   "cell_type": "markdown",
   "metadata": {},
   "source": [
    "We should have 8 values; each value is the mean parameter value of Broca's area for each subject. "
   ]
  },
  {
   "cell_type": "code",
   "execution_count": null,
   "metadata": {},
   "outputs": [],
   "source": [
    "# Let's plot the roi_means across subjects\n",
    "\n",
    "# Create the bar plot with x positions\n",
    "x_positions = range(len(roi_means))\n",
    "plt.figure(figsize=(10, 6))  # Adjust figure size as needed\n",
    "plt.bar(x_positions, roi_means, color='skyblue')  # Use x positions and heights\n",
    "\n",
    "# Add labels and title\n",
    "plt.xlabel('Subject')\n",
    "plt.ylabel('Mean Parameter Value (Beta)')\n",
    "plt.title('Mean ROI Parameter Value per Subject') # Update title if condition is different\n",
    "plt.ylim(min(0, min(roi_means)), max(0, max(roi_means)) * 1.2) # Adjust y-axis limits for better visualization, ensure 0 is included if relevant\n",
    "\n",
    "# Add a horizontal line at 0 for reference (if betas can be negative/positive)\n",
    "plt.axhline(0, color='black', linestyle='--', linewidth=0.8)\n",
    "\n",
    "# Rotate x-axis labels if needed for better readability\n",
    "plt.xticks(rotation=45, ha='right')\n",
    "plt.tight_layout() # Adjust layout to prevent labels from overlapping\n",
    "\n",
    "# Show the plot\n",
    "plt.show()"
   ]
  },
  {
   "cell_type": "markdown",
   "metadata": {},
   "source": [
    "## 4. Extracting all conditions\n",
    "\n",
    "Now we'll repeat what we did above, but iterate through each condition. We'll save off our condition data in a dictionary (`condition_means`). Each item in the dictionary will the subjects' mean beta values for a condition. "
   ]
  },
  {
   "cell_type": "code",
   "execution_count": null,
   "metadata": {},
   "outputs": [],
   "source": [
    "conditions = ['Arm', 'Eye', 'Finger', 'Grasp', 'Mouth', 'Speech', 'Toes', 'Touch']\n",
    "ROI = 'L_SSc.nii.gz'\n",
    "\n",
    "condition_means = {} #let's loop over conditions\n",
    "for cond in conditions:\n",
    "    \n",
    "    # get parameter map of each subject \n",
    "    param_maps = []\n",
    "    for model in glms:\n",
    "        parameter_map = model.compute_contrast(cond, output_type='effect_size')\n",
    "        param_maps.append(parameter_map)\n",
    "        \n",
    "    # set mask and extract data\n",
    "    masker = NiftiMasker(mask_img=ROI)\n",
    "    roi_data = masker.fit_transform(param_maps)\n",
    "    \n",
    "    # compute mean for each subject and save off\n",
    "    roi_means = np.mean(roi_data, axis=1)\n",
    "    condition_means[cond] = roi_means\n",
    "    "
   ]
  },
  {
   "cell_type": "markdown",
   "metadata": {},
   "source": [
    "All our results are stored nicely in the dictionary:"
   ]
  },
  {
   "cell_type": "code",
   "execution_count": null,
   "metadata": {},
   "outputs": [],
   "source": [
    "condition_means"
   ]
  },
  {
   "cell_type": "markdown",
   "metadata": {},
   "source": [
    "## 5. Plotting the results\n",
    "\n",
    "Finally, we want to plot our results so that we can interpret them. Instead of keeping all of our results in a dictionary, we can easily convert it to a pandas `DataFrame` object that we've seen before. Each key of the dictionary will become a column.\n",
    "\n",
    "Putting things in a `DataFrame` not only lets us use Seaborn for plotting (see below), but it also lets us use the many powerful features provided by pandas. We'll use the `describe` method to look at the summary statistics before we plot."
   ]
  },
  {
   "cell_type": "code",
   "execution_count": null,
   "metadata": {},
   "outputs": [],
   "source": [
    "results = pd.DataFrame(condition_means)\n",
    "results"
   ]
  },
  {
   "cell_type": "code",
   "execution_count": null,
   "metadata": {},
   "outputs": [],
   "source": [
    "results.describe()"
   ]
  },
  {
   "cell_type": "markdown",
   "metadata": {},
   "source": [
    "For plotting, we will want to reshape our data into a columnar, or 'long', format (many plotting libraries, like Seaborn, expect long-format data). \n",
    "\n",
    "Right now, each column is a condition, and each row is a subject. What we want is for each row to be a single beta value that is labelled according to it's condition. We don't need subject information for our analysis, so we don't need to worry about labeling each beta value according to the subject."
   ]
  },
  {
   "cell_type": "code",
   "execution_count": null,
   "metadata": {},
   "outputs": [],
   "source": [
    "# we will use the melt function in pandas to transform the dataframe from a wide format to a long (or tidy) format\n",
    "results = results.melt(var_name='Condition', value_name='Beta')\n",
    "results"
   ]
  },
  {
   "cell_type": "markdown",
   "metadata": {},
   "source": [
    "We'll plot this using Seaborn, which is a fantastic statistical plotting library. The [online documentation is excellent](https://seaborn.pydata.org/index.html)."
   ]
  },
  {
   "cell_type": "code",
   "execution_count": null,
   "metadata": {},
   "outputs": [],
   "source": [
    "sns.barplot(x='Condition', y='Beta', data=results, color='gray')"
   ]
  },
  {
   "cell_type": "markdown",
   "metadata": {},
   "source": [
    "We can drastically improve this figure in order to make it publication-ready. We'll overlay individual data points, convert the 95% CI to standard error, fix up some styling stuff, and add a title. We'll bundle this all into a matplotlib figure (`fig`), which consists of a single panel (`ax`). We can edit properties of this panel by calling various methods.\n",
    "\n",
    "How would you interpret this data? Change the ROI and repeat the above steps, and compare across regions."
   ]
  },
  {
   "cell_type": "code",
   "execution_count": null,
   "metadata": {},
   "outputs": [],
   "source": [
    "fig, ax = plt.subplots()\n",
    "# over lay data points \n",
    "sns.stripplot(x='Condition', y='Beta', data=results, color='k', ax=ax, \n",
    "              edgecolor='k', marker='o', size=4)\n",
    "# make nice bars\n",
    "sns.barplot(x='Condition', y='Beta', data=results, color='dodgerblue', \n",
    "            ci=68, errcolor='k', errwidth=1.5, ax=ax)\n",
    "# add a 0 line\n",
    "ax.axhline(0, c='k', lw=1)\n",
    "# add title and stylize the axes\n",
    "ax.set_title('ROI analysis')\n",
    "ax.xaxis.set_tick_params(length=0)\n",
    "sns.despine(bottom=True)"
   ]
  },
  {
   "cell_type": "markdown",
   "metadata": {},
   "source": [
    "## 6. Excercises: \n",
    "\n",
    "#### Exercise 1: Plot the results for the different ROIs\n",
    "What conditions most strongly activate the L_Broca and L_FEF ROIs?\n",
    "\n",
    "#### Exercise 2: Test whether the mean beta values differ significantly between two conditions for a specific ROI.\n",
    "\n",
    "Select Two Conditions:\n",
    "Choose two conditions (e.g., 'Arm' vs. 'Eye') for the ROI (e.g., L_SSc.nii.gz).\n",
    "\n",
    "Extract Data:\n",
    "Using the provided pipeline, extract the beta values for each subject under both conditions. Compute the subject-level mean beta values for each condition.\n",
    "\n",
    "Perform a Statistical Test: Use a paired t-test to compare the mean beta values between the two conditions. \n",
    "\n",
    "Create a plot (such as a boxplot or a paired scatter plot) that displays the distribution of beta values for each condition.\n",
    "Overlay individual subject data points.\n",
    "Annotate the plot with the p-value from your statistical test."
   ]
  }
 ],
 "metadata": {
  "kernelspec": {
   "display_name": "Python [conda env:myneuro] *",
   "language": "python",
   "name": "conda-env-myneuro-py"
  },
  "language_info": {
   "codemirror_mode": {
    "name": "ipython",
    "version": 3
   },
   "file_extension": ".py",
   "mimetype": "text/x-python",
   "name": "python",
   "nbconvert_exporter": "python",
   "pygments_lexer": "ipython3",
   "version": "3.11.11"
  }
 },
 "nbformat": 4,
 "nbformat_minor": 4
}
